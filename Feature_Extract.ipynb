{
 "cells": [
  {
   "cell_type": "code",
   "execution_count": null,
   "metadata": {},
   "outputs": [],
   "source": [
    "import numpy as np\n",
    "import pandas as pd\n",
    "import os\n",
    "import librosa\n",
    "import matplotlib.pyplot as plt\n",
    "import cv2 as cv"
   ]
  },
  {
   "cell_type": "code",
   "execution_count": null,
   "metadata": {},
   "outputs": [],
   "source": [
    "#create spectograms all sound files and reshape spectograms (with=299 height=299) for model inputs)\n",
    "def extract_features(file_name,index):\n",
    "    try:\n",
    "        audio, sample_rate = librosa.load(file_name)\n",
    "        D = np.abs(librosa.stft(audio)) ** 2\n",
    "\n",
    "        S = librosa.feature.melspectrogram(y=audio, sr=sample_rate, n_mels=128, fmax=8000)\n",
    "        plt.figure(figsize=(5, 5))\n",
    "        S_dB = librosa.power_to_db(S, ref=np.max)\n",
    "\n",
    "        plt.imshow(S_dB)\n",
    "        plt.axis(\"off\")\n",
    "        #plt.show()\n",
    "        plt.savefig(\"another file path /another_name.png\",bbox_inches='tight',pad_inches=0)#\n",
    "        reesim=cv.imread(\"another file path /another_name.png\")\n",
    "       \n",
    "        reesim = cv.resize(reesim, dsize=(299, 299), interpolation=cv.INTER_LINEAR)\n",
    "        \n",
    "        cv.imwrite(\"your image folder path/\" + str(index) + \".png\", reesim)\n",
    "       \n",
    "\n",
    "    except Exception as e:\n",
    "        print(\"Error encountered while parsing file: \", file_name)\n",
    "        return None\n",
    "  \n",
    "    "
   ]
  },
  {
   "cell_type": "code",
   "execution_count": null,
   "metadata": {},
   "outputs": [],
   "source": [
    "#read all sound files \n",
    "def get_data():\n",
    "   \n",
    "    # Set the path to the full UrbanSound dataset\n",
    "    fulldatasetpath = '/your location/UrbanSound8K/audio/'\n",
    "\n",
    "    metadata = pd.read_csv(fulldatasetpath + '../metadata/UrbanSound8K.csv')\n",
    "\n",
    "\n",
    "\n",
    "    # Iterate through each sound file and extract the features\n",
    "    for index, row in metadata.iterrows():\n",
    "           \n",
    "                file_name = os.path.join(os.path.abspath(fulldatasetpath), 'fold' + str(row[\"fold\"]) + '/',\n",
    "                                         str(row[\"slice_file_name\"]))\n",
    "\n",
    "                \n",
    "                data = extract_features(file_name,index)\n",
    "\n",
    "            \n",
    "                print(\"extracted files: \",index)\n",
    "\n",
    "\n",
    "\n",
    "    print('Finished feature extraction from ', len(featuresdf), ' files')\n",
    "\n",
    "    return featuresdf\n"
   ]
  }
 ],
 "metadata": {
  "kernelspec": {
   "display_name": "Python 3",
   "language": "python",
   "name": "python3"
  },
  "language_info": {
   "codemirror_mode": {
    "name": "ipython",
    "version": 3
   },
   "file_extension": ".py",
   "mimetype": "text/x-python",
   "name": "python",
   "nbconvert_exporter": "python",
   "pygments_lexer": "ipython3",
   "version": "3.7.6"
  }
 },
 "nbformat": 4,
 "nbformat_minor": 4
}
